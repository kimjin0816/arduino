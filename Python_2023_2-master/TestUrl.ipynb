{
 "cells": [
  {
   "cell_type": "code",
   "execution_count": 12,
   "id": "26164dcf-a409-46d9-9409-ac127f1c75e1",
   "metadata": {},
   "outputs": [],
   "source": [
    "from urllib import parse"
   ]
  },
  {
   "cell_type": "code",
   "execution_count": 13,
   "id": "6e6183c5-5957-4749-9d9e-e127632617df",
   "metadata": {},
   "outputs": [],
   "source": [
    "url = '/sample_volt?count=10&delay=1.5'"
   ]
  },
  {
   "cell_type": "code",
   "execution_count": 14,
   "id": "2f5cdeff-38fc-462f-a474-10fdf10d78e1",
   "metadata": {},
   "outputs": [
    {
     "name": "stdout",
     "output_type": "stream",
     "text": [
      "SplitResult(scheme='', netloc='', path='/sample_volt', query='count=10&delay=1.5', fragment='')\n"
     ]
    }
   ],
   "source": [
    "result = parse.urlsplit(url) \n",
    "print(result)"
   ]
  },
  {
   "cell_type": "code",
   "execution_count": 15,
   "id": "739fce32-1d0c-4f12-ab31-1e6a3902d019",
   "metadata": {},
   "outputs": [
    {
     "name": "stdout",
     "output_type": "stream",
     "text": [
      "{'count': ['10'], 'delay': ['1.5']}\n"
     ]
    }
   ],
   "source": [
    "qdict = parse.parse_qs(result.query)\n",
    "print(qdict)"
   ]
  },
  {
   "cell_type": "code",
   "execution_count": 16,
   "id": "1a31103b-ff32-4144-a9fa-0e2585508a72",
   "metadata": {},
   "outputs": [
    {
     "name": "stdout",
     "output_type": "stream",
     "text": [
      "10\n"
     ]
    }
   ],
   "source": [
    "nCount = int(qdict['count'][0])\n",
    "print(nCount)"
   ]
  },
  {
   "cell_type": "code",
   "execution_count": 17,
   "id": "f278dfed-1f8a-425a-9e67-fd39317c5340",
   "metadata": {},
   "outputs": [
    {
     "name": "stdout",
     "output_type": "stream",
     "text": [
      "1.5\n"
     ]
    }
   ],
   "source": [
    "delay = float(qdict['delay'][0])\n",
    "print(delay)"
   ]
  },
  {
   "cell_type": "code",
   "execution_count": null,
   "id": "a8b92cdd-0fb4-46d8-9645-c9202bfbacf4",
   "metadata": {},
   "outputs": [],
   "source": []
  }
 ],
 "metadata": {
  "kernelspec": {
   "display_name": "Python 3 (ipykernel)",
   "language": "python",
   "name": "python3"
  },
  "language_info": {
   "codemirror_mode": {
    "name": "ipython",
    "version": 3
   },
   "file_extension": ".py",
   "mimetype": "text/x-python",
   "name": "python",
   "nbconvert_exporter": "python",
   "pygments_lexer": "ipython3",
   "version": "3.8.6"
  }
 },
 "nbformat": 4,
 "nbformat_minor": 5
}
