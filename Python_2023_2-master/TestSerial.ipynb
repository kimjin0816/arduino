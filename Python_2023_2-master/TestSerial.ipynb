{
 "cells": [
  {
   "cell_type": "code",
   "execution_count": 1,
   "id": "b49ef56c-645d-41bf-aa06-131ef8e5cd96",
   "metadata": {},
   "outputs": [],
   "source": [
    "from serial import Serial # serial 모듈에서 Serial 클래스를 수입; C++의 include 역할"
   ]
  },
  {
   "cell_type": "code",
   "execution_count": 2,
   "id": "e74cee61-eae8-4f8a-9fc8-005fd7939b55",
   "metadata": {},
   "outputs": [],
   "source": [
    "# 핵심 파이선 명렁어 : print() -> 객체 출력, type() -> 객체 자료형 확인, help() -> 도움말"
   ]
  },
  {
   "cell_type": "code",
   "execution_count": 2,
   "id": "e1e81990-5b11-4475-94ab-8eaec061c98d",
   "metadata": {},
   "outputs": [
    {
     "data": {
      "text/plain": [
       "abc.ABCMeta"
      ]
     },
     "execution_count": 2,
     "metadata": {},
     "output_type": "execute_result"
    }
   ],
   "source": [
    "type(Serial)"
   ]
  },
  {
   "cell_type": "code",
   "execution_count": 3,
   "id": "1dd47480-5a3a-4830-9037-328c761aee10",
   "metadata": {},
   "outputs": [],
   "source": [
    "ard = Serial('COM3',9600); # Serial 클래스의 인스터스(변수)를 저장\n",
    "# 'COM3' : Arduino가 연결된 USB 포트의 시리얼 통신 이름(문자열)\n",
    "# 9600 : 시리얼 통신의 연결 속도 (Arduino의 연결 속도(Serial.begin(9600)와 같아야 함))"
   ]
  },
  {
   "cell_type": "code",
   "execution_count": 6,
   "id": "e674cc51-f9d8-4433-972c-4838f05144a6",
   "metadata": {},
   "outputs": [
    {
     "data": {
      "text/plain": [
       "10"
      ]
     },
     "execution_count": 6,
     "metadata": {},
     "output_type": "execute_result"
    }
   ],
   "source": [
    "sCmd = 'get volt \\n' # 파이썬 문자열: 유니코드(Unicode)\n",
    "btCmd = sCmd.encode() # 유니코드를 바이트 코드로 인코딩\n",
    "ard.write(btCmd) # ASCII코드: 바이트(byte) 코드; write()의 출력은 출력한 바이트 수"
   ]
  },
  {
   "cell_type": "code",
   "execution_count": 7,
   "id": "34078b95-01f8-4fa9-b77c-386bd4ed4f46",
   "metadata": {},
   "outputs": [
    {
     "name": "stdout",
     "output_type": "stream",
     "text": [
      "14\n"
     ]
    }
   ],
   "source": [
    "nRead = ard.in_waiting # in_waiting: Serial로 읽을 수 있는 바이트 수\n",
    "print(nRead)"
   ]
  },
  {
   "cell_type": "code",
   "execution_count": 8,
   "id": "63c5cbd0-8b36-40ac-b697-9a773dee9332",
   "metadata": {},
   "outputs": [],
   "source": [
    "if nRead > 0:\n",
    "    btRead = ard.read(nRead) # read(): Serial로부터 nRead 바이트만큼 읽기; 읽은 문자열은 바이트 코드로 저장\n",
    "    sRead = btRead.decode() # 바이트 문자열이 유니코드로 바꾸는 과정"
   ]
  },
  {
   "cell_type": "code",
   "execution_count": 9,
   "id": "a2db7299-da86-4bd5-bcb0-719bc7c92e9a",
   "metadata": {},
   "outputs": [
    {
     "name": "stdout",
     "output_type": "stream",
     "text": [
      "3.3431084000\n",
      "\n"
     ]
    }
   ],
   "source": [
    "print(sRead)"
   ]
  },
  {
   "cell_type": "code",
   "execution_count": 10,
   "id": "4874f36f-dcde-477f-8c3c-95e17b2c42ec",
   "metadata": {},
   "outputs": [
    {
     "data": {
      "text/plain": [
       "str"
      ]
     },
     "execution_count": 10,
     "metadata": {},
     "output_type": "execute_result"
    }
   ],
   "source": [
    "type(sRead)"
   ]
  },
  {
   "cell_type": "code",
   "execution_count": 11,
   "id": "a841771c-c802-4da7-b2d6-37da7c312483",
   "metadata": {},
   "outputs": [],
   "source": [
    "volt = float(sRead)"
   ]
  },
  {
   "cell_type": "code",
   "execution_count": 12,
   "id": "12f4be52-631b-440a-b339-08d260522e52",
   "metadata": {},
   "outputs": [],
   "source": [
    "def writeSerial(sCmd): # indent 맞추기: Ctrl+[, Ctrl+]\n",
    "    btCmd = sCmd.encode()\n",
    "    nWrite = ard.write(btCmd) \n",
    "    ard.flush() # 입력한 바이트를 모두 출력할 때까지 대기\n",
    "    return nWrite"
   ]
  },
  {
   "cell_type": "code",
   "execution_count": 13,
   "id": "ec391133-48fd-4f70-9904-ec25a5eafb09",
   "metadata": {},
   "outputs": [
    {
     "data": {
      "text/plain": [
       "10"
      ]
     },
     "execution_count": 13,
     "metadata": {},
     "output_type": "execute_result"
    }
   ],
   "source": [
    "writeSerial('get volt \\n')"
   ]
  },
  {
   "cell_type": "code",
   "execution_count": 14,
   "id": "96e3203f-e526-4ec8-af58-b227ebeb4be9",
   "metadata": {},
   "outputs": [],
   "source": [
    "def readSerial():\n",
    "    nRead = ard.in_waiting\n",
    "    if nRead > 0:\n",
    "        btRead = ard.read(nRead) \n",
    "        sRead = btRead.decode() \n",
    "        return sRead\n",
    "    else: return '' # 읽을 바이트가 없으면 공백 문자열 반환"
   ]
  },
  {
   "cell_type": "code",
   "execution_count": 15,
   "id": "36213e29-1182-49cf-aeff-3ab2ed75d1d2",
   "metadata": {},
   "outputs": [
    {
     "data": {
      "text/plain": [
       "'3.3431084000\\r\\n'"
      ]
     },
     "execution_count": 15,
     "metadata": {},
     "output_type": "execute_result"
    }
   ],
   "source": [
    "readSerial()"
   ]
  },
  {
   "cell_type": "code",
   "execution_count": 16,
   "id": "6539eb15-766b-4a60-b2d0-5c1afea57b79",
   "metadata": {},
   "outputs": [],
   "source": [
    "def talk(sCmd):\n",
    "    writeSerial(sCmd + '\\n') # 명령어 sCmd에 엔터를 자동 추가"
   ]
  },
  {
   "cell_type": "code",
   "execution_count": 17,
   "id": "6f0f8bdf-a0c8-479f-a14b-0b8ae75a5fcd",
   "metadata": {},
   "outputs": [],
   "source": [
    "def listen():\n",
    "    sRead = readSerial()\n",
    "    return sRead.strip() # 양쪽에 공백 문자를 제거한 문자열을 반환"
   ]
  },
  {
   "cell_type": "code",
   "execution_count": 18,
   "id": "c48651f0-2d52-454f-954c-a59f154f631f",
   "metadata": {},
   "outputs": [],
   "source": [
    "talk('get volt')"
   ]
  },
  {
   "cell_type": "code",
   "execution_count": 19,
   "id": "39a25633-58b7-457c-899c-443cd46302b7",
   "metadata": {},
   "outputs": [
    {
     "data": {
      "text/plain": [
       "'3.3479960000'"
      ]
     },
     "execution_count": 19,
     "metadata": {},
     "output_type": "execute_result"
    }
   ],
   "source": [
    "listen()"
   ]
  },
  {
   "cell_type": "code",
   "execution_count": 20,
   "id": "390d0174-5165-43db-9f13-ea4377abe7e2",
   "metadata": {},
   "outputs": [],
   "source": [
    "talk('get light')"
   ]
  },
  {
   "cell_type": "code",
   "execution_count": 21,
   "id": "2c3d5b43-f6d8-4e5c-824b-f68d19f21899",
   "metadata": {},
   "outputs": [
    {
     "data": {
      "text/plain": [
       "'ambient'"
      ]
     },
     "execution_count": 21,
     "metadata": {},
     "output_type": "execute_result"
    }
   ],
   "source": [
    "listen()"
   ]
  },
  {
   "cell_type": "code",
   "execution_count": 22,
   "id": "5ca4b2cb-759c-472b-b6ff-5e16c025f511",
   "metadata": {},
   "outputs": [],
   "source": [
    "talk('set led blue')"
   ]
  },
  {
   "cell_type": "code",
   "execution_count": 23,
   "id": "fea42655-8c66-454a-921a-ffe17078604a",
   "metadata": {},
   "outputs": [],
   "source": [
    "talk('set buzzer RE 3000')"
   ]
  },
  {
   "cell_type": "code",
   "execution_count": 24,
   "id": "13724aee-0da9-4fcd-a0e5-2e723785c8ee",
   "metadata": {},
   "outputs": [],
   "source": [
    "talk('get volt')"
   ]
  },
  {
   "cell_type": "code",
   "execution_count": null,
   "id": "90ca108c-00a3-4f61-b215-dc801a677a3f",
   "metadata": {},
   "outputs": [],
   "source": []
  }
 ],
 "metadata": {
  "kernelspec": {
   "display_name": "Python 3 (ipykernel)",
   "language": "python",
   "name": "python3"
  },
  "language_info": {
   "codemirror_mode": {
    "name": "ipython",
    "version": 3
   },
   "file_extension": ".py",
   "mimetype": "text/x-python",
   "name": "python",
   "nbconvert_exporter": "python",
   "pygments_lexer": "ipython3",
   "version": "3.8.6"
  }
 },
 "nbformat": 4,
 "nbformat_minor": 5
}
