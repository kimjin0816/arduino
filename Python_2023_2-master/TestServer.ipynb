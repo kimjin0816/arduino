{
 "cells": [
  {
   "cell_type": "code",
   "execution_count": 1,
   "id": "6fc8d06e-b486-44a3-8c83-65f9f1f31a79",
   "metadata": {},
   "outputs": [],
   "source": [
    "from http.server import HTTPServer\n",
    "from HubRequestHandler import HubRequestHandler"
   ]
  },
  {
   "cell_type": "code",
   "execution_count": 2,
   "id": "6281429c-6165-48ec-ba3e-55194911458c",
   "metadata": {},
   "outputs": [],
   "source": [
    "# 웹서버(서버) <-> 웹브라우저(클라이언트)\n",
    "# webServer = HTTPServer(('localhost',8080), None) # 서버 인스턴스 생성: host = 'localhost', port = 8080, requestHandler=None\n",
    "webServer = HTTPServer(('127.0.0.1',8080), HubRequestHandler) "
   ]
  },
  {
   "cell_type": "code",
   "execution_count": null,
   "id": "7cdeee43-95f2-4b87-8289-174d6d810507",
   "metadata": {},
   "outputs": [
    {
     "name": "stdout",
     "output_type": "stream",
     "text": [
      "My web server started at http://localhost:8080\n",
      "/\n",
      "/favicon.ico\n"
     ]
    },
    {
     "name": "stderr",
     "output_type": "stream",
     "text": [
      "127.0.0.1 - - [13/Dec/2023 18:36:43] \"GET / HTTP/1.1\" 200 -\n",
      "----------------------------------------\n",
      "Exception happened during processing of request from ('127.0.0.1', 60123)\n",
      "Traceback (most recent call last):\n",
      "  File \"c:\\users\\user\\appdata\\local\\programs\\python\\python38\\lib\\socketserver.py\", line 316, in _handle_request_noblock\n",
      "    self.process_request(request, client_address)\n",
      "  File \"c:\\users\\user\\appdata\\local\\programs\\python\\python38\\lib\\socketserver.py\", line 347, in process_request\n",
      "    self.finish_request(request, client_address)\n",
      "  File \"c:\\users\\user\\appdata\\local\\programs\\python\\python38\\lib\\socketserver.py\", line 360, in finish_request\n",
      "    self.RequestHandlerClass(request, client_address, self)\n",
      "  File \"c:\\users\\user\\appdata\\local\\programs\\python\\python38\\lib\\http\\server.py\", line 647, in __init__\n",
      "    super().__init__(*args, **kwargs)\n",
      "  File \"c:\\users\\user\\appdata\\local\\programs\\python\\python38\\lib\\socketserver.py\", line 720, in __init__\n",
      "    self.handle()\n",
      "  File \"c:\\users\\user\\appdata\\local\\programs\\python\\python38\\lib\\http\\server.py\", line 427, in handle\n",
      "    self.handle_one_request()\n",
      "  File \"c:\\users\\user\\appdata\\local\\programs\\python\\python38\\lib\\http\\server.py\", line 415, in handle_one_request\n",
      "    method()\n",
      "  File \"C:\\Users\\user\\Desktop\\Python_2023_2-master\\HubRequestHandler.py\", line 17, in do_GET\n",
      "    else: result.writeNotFound() # 페이지가 없음\n",
      "AttributeError: 'SplitResult' object has no attribute 'writeNotFound'\n",
      "----------------------------------------\n"
     ]
    },
    {
     "name": "stdout",
     "output_type": "stream",
     "text": [
      "/favicon.ico\n"
     ]
    },
    {
     "name": "stderr",
     "output_type": "stream",
     "text": [
      "----------------------------------------\n",
      "Exception happened during processing of request from ('127.0.0.1', 60125)\n",
      "Traceback (most recent call last):\n",
      "  File \"c:\\users\\user\\appdata\\local\\programs\\python\\python38\\lib\\socketserver.py\", line 316, in _handle_request_noblock\n",
      "    self.process_request(request, client_address)\n",
      "  File \"c:\\users\\user\\appdata\\local\\programs\\python\\python38\\lib\\socketserver.py\", line 347, in process_request\n",
      "    self.finish_request(request, client_address)\n",
      "  File \"c:\\users\\user\\appdata\\local\\programs\\python\\python38\\lib\\socketserver.py\", line 360, in finish_request\n",
      "    self.RequestHandlerClass(request, client_address, self)\n",
      "  File \"c:\\users\\user\\appdata\\local\\programs\\python\\python38\\lib\\http\\server.py\", line 647, in __init__\n",
      "    super().__init__(*args, **kwargs)\n",
      "  File \"c:\\users\\user\\appdata\\local\\programs\\python\\python38\\lib\\socketserver.py\", line 720, in __init__\n",
      "    self.handle()\n",
      "  File \"c:\\users\\user\\appdata\\local\\programs\\python\\python38\\lib\\http\\server.py\", line 427, in handle\n",
      "    self.handle_one_request()\n",
      "  File \"c:\\users\\user\\appdata\\local\\programs\\python\\python38\\lib\\http\\server.py\", line 415, in handle_one_request\n",
      "    method()\n",
      "  File \"C:\\Users\\user\\Desktop\\Python_2023_2-master\\HubRequestHandler.py\", line 17, in do_GET\n",
      "    else: result.writeNotFound() # 페이지가 없음\n",
      "AttributeError: 'SplitResult' object has no attribute 'writeNotFound'\n",
      "----------------------------------------\n"
     ]
    },
    {
     "name": "stdout",
     "output_type": "stream",
     "text": [
      "/meas_one_volt\n"
     ]
    },
    {
     "name": "stderr",
     "output_type": "stream",
     "text": [
      "127.0.0.1 - - [13/Dec/2023 18:36:45] \"GET /meas_one_volt HTTP/1.1\" 200 -\n",
      "----------------------------------------\n",
      "Exception happened during processing of request from ('127.0.0.1', 60129)\n",
      "Traceback (most recent call last):\n",
      "  File \"c:\\users\\user\\appdata\\local\\programs\\python\\python38\\lib\\socketserver.py\", line 316, in _handle_request_noblock\n",
      "    self.process_request(request, client_address)\n",
      "  File \"c:\\users\\user\\appdata\\local\\programs\\python\\python38\\lib\\socketserver.py\", line 347, in process_request\n",
      "    self.finish_request(request, client_address)\n",
      "  File \"c:\\users\\user\\appdata\\local\\programs\\python\\python38\\lib\\socketserver.py\", line 360, in finish_request\n",
      "    self.RequestHandlerClass(request, client_address, self)\n",
      "  File \"c:\\users\\user\\appdata\\local\\programs\\python\\python38\\lib\\http\\server.py\", line 647, in __init__\n",
      "    super().__init__(*args, **kwargs)\n",
      "  File \"c:\\users\\user\\appdata\\local\\programs\\python\\python38\\lib\\socketserver.py\", line 720, in __init__\n",
      "    self.handle()\n",
      "  File \"c:\\users\\user\\appdata\\local\\programs\\python\\python38\\lib\\http\\server.py\", line 427, in handle\n",
      "    self.handle_one_request()\n",
      "  File \"c:\\users\\user\\appdata\\local\\programs\\python\\python38\\lib\\http\\server.py\", line 415, in handle_one_request\n",
      "    method()\n",
      "  File \"C:\\Users\\user\\Desktop\\Python_2023_2-master\\HubRequestHandler.py\", line 10, in do_GET\n",
      "    elif result.path == '/meas_one_volt': self.writeMeasOneVolt()\n",
      "  File \"C:\\Users\\user\\Desktop\\Python_2023_2-master\\HubRequestHandler.py\", line 54, in writeMeasOneVolt\n",
      "    bResult = self.server.gateway.insertOneVoltTable() # gateway == PythonHub의 인스턴스\n",
      "AttributeError: 'HTTPServer' object has no attribute 'gateway'\n",
      "----------------------------------------\n"
     ]
    },
    {
     "name": "stdout",
     "output_type": "stream",
     "text": [
      "/favicon.ico\n"
     ]
    },
    {
     "name": "stderr",
     "output_type": "stream",
     "text": [
      "----------------------------------------\n",
      "Exception happened during processing of request from ('127.0.0.1', 60130)\n",
      "Traceback (most recent call last):\n",
      "  File \"c:\\users\\user\\appdata\\local\\programs\\python\\python38\\lib\\socketserver.py\", line 316, in _handle_request_noblock\n",
      "    self.process_request(request, client_address)\n",
      "  File \"c:\\users\\user\\appdata\\local\\programs\\python\\python38\\lib\\socketserver.py\", line 347, in process_request\n",
      "    self.finish_request(request, client_address)\n",
      "  File \"c:\\users\\user\\appdata\\local\\programs\\python\\python38\\lib\\socketserver.py\", line 360, in finish_request\n",
      "    self.RequestHandlerClass(request, client_address, self)\n",
      "  File \"c:\\users\\user\\appdata\\local\\programs\\python\\python38\\lib\\http\\server.py\", line 647, in __init__\n",
      "    super().__init__(*args, **kwargs)\n",
      "  File \"c:\\users\\user\\appdata\\local\\programs\\python\\python38\\lib\\socketserver.py\", line 720, in __init__\n",
      "    self.handle()\n",
      "  File \"c:\\users\\user\\appdata\\local\\programs\\python\\python38\\lib\\http\\server.py\", line 427, in handle\n",
      "    self.handle_one_request()\n",
      "  File \"c:\\users\\user\\appdata\\local\\programs\\python\\python38\\lib\\http\\server.py\", line 415, in handle_one_request\n",
      "    method()\n",
      "  File \"C:\\Users\\user\\Desktop\\Python_2023_2-master\\HubRequestHandler.py\", line 17, in do_GET\n",
      "    else: result.writeNotFound() # 페이지가 없음\n",
      "AttributeError: 'SplitResult' object has no attribute 'writeNotFound'\n",
      "----------------------------------------\n"
     ]
    },
    {
     "name": "stdout",
     "output_type": "stream",
     "text": [
      "/favicon.ico\n"
     ]
    },
    {
     "name": "stderr",
     "output_type": "stream",
     "text": [
      "----------------------------------------\n",
      "Exception happened during processing of request from ('127.0.0.1', 60133)\n",
      "Traceback (most recent call last):\n",
      "  File \"c:\\users\\user\\appdata\\local\\programs\\python\\python38\\lib\\socketserver.py\", line 316, in _handle_request_noblock\n",
      "    self.process_request(request, client_address)\n",
      "  File \"c:\\users\\user\\appdata\\local\\programs\\python\\python38\\lib\\socketserver.py\", line 347, in process_request\n",
      "    self.finish_request(request, client_address)\n",
      "  File \"c:\\users\\user\\appdata\\local\\programs\\python\\python38\\lib\\socketserver.py\", line 360, in finish_request\n",
      "    self.RequestHandlerClass(request, client_address, self)\n",
      "  File \"c:\\users\\user\\appdata\\local\\programs\\python\\python38\\lib\\http\\server.py\", line 647, in __init__\n",
      "    super().__init__(*args, **kwargs)\n",
      "  File \"c:\\users\\user\\appdata\\local\\programs\\python\\python38\\lib\\socketserver.py\", line 720, in __init__\n",
      "    self.handle()\n",
      "  File \"c:\\users\\user\\appdata\\local\\programs\\python\\python38\\lib\\http\\server.py\", line 427, in handle\n",
      "    self.handle_one_request()\n",
      "  File \"c:\\users\\user\\appdata\\local\\programs\\python\\python38\\lib\\http\\server.py\", line 415, in handle_one_request\n",
      "    method()\n",
      "  File \"C:\\Users\\user\\Desktop\\Python_2023_2-master\\HubRequestHandler.py\", line 17, in do_GET\n",
      "    else: result.writeNotFound() # 페이지가 없음\n",
      "AttributeError: 'SplitResult' object has no attribute 'writeNotFound'\n",
      "----------------------------------------\n"
     ]
    }
   ],
   "source": [
    "# webSerer 동작\n",
    "print(f'My web server started at http://localhost:8080')\n",
    "webServer.serve_forever()"
   ]
  },
  {
   "cell_type": "code",
   "execution_count": null,
   "id": "240dfc79-0c98-4f4c-b508-15960402e557",
   "metadata": {},
   "outputs": [],
   "source": []
  }
 ],
 "metadata": {
  "kernelspec": {
   "display_name": "Python 3 (ipykernel)",
   "language": "python",
   "name": "python3"
  },
  "language_info": {
   "codemirror_mode": {
    "name": "ipython",
    "version": 3
   },
   "file_extension": ".py",
   "mimetype": "text/x-python",
   "name": "python",
   "nbconvert_exporter": "python",
   "pygments_lexer": "ipython3",
   "version": "3.8.6"
  }
 },
 "nbformat": 4,
 "nbformat_minor": 5
}
