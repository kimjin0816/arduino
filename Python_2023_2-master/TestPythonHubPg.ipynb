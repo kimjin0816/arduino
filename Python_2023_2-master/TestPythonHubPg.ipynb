{
 "cells": [
  {
   "cell_type": "code",
   "execution_count": 1,
   "id": "d2f9a9f6-1515-43d8-859d-1f55edda8ace",
   "metadata": {},
   "outputs": [],
   "source": [
    "from PythonHub import PythonHub # PythonHub 모듈(PythonHub.py)로부터 클래스 PythonHub을 수입함\n",
    "pyHub = PythonHub()"
   ]
  },
  {
   "cell_type": "code",
   "execution_count": 5,
   "id": "e3f3722a-4960-4c5f-9883-8eb973f6d740",
   "metadata": {},
   "outputs": [],
   "source": [
    "pyHub.clearLightTuple()\n",
    "pyHub.clearLightTable()"
   ]
  },
  {
   "cell_type": "code",
   "execution_count": 6,
   "id": "8fb21412-fff1-49f9-a005-2c2f8466bc0d",
   "metadata": {},
   "outputs": [],
   "source": [
    "pyHub.clearVoltTuple()\n",
    "pyHub.clearVoltTable()"
   ]
  },
  {
   "cell_type": "code",
   "execution_count": 7,
   "id": "4edc01b6-0212-42aa-9154-fcf9b79d7d3e",
   "metadata": {},
   "outputs": [
    {
     "name": "stdout",
     "output_type": "stream",
     "text": [
      "(3.3431084,)\n",
      "(1701246252.4872768,)\n",
      "(3.3431084, 3.3333333)\n",
      "(1701246252.4872768, 1701246254.0118423)\n",
      "(3.3431084, 3.3333333, 3.3333333)\n",
      "(1701246252.4872768, 1701246254.0118423, 1701246255.5291479)\n",
      "[(1701246252, 3.3431084), (1701246254, 3.3333333), (1701246256, 3.3333333)]\n",
      "(1701246252, 1701246254, 1701246256)\n",
      "(3.3431084, 3.3333333, 3.3333333)\n"
     ]
    }
   ],
   "source": [
    "pyHub.sampleVoltTuple(3,1)\n",
    "pyHub.saveVoltTupleToTable()\n",
    "pyHub.loadVoltTupleFromTable()"
   ]
  },
  {
   "cell_type": "code",
   "execution_count": null,
   "id": "8f7f1f74-1672-4352-a527-f8b94ec5555d",
   "metadata": {},
   "outputs": [
    {
     "name": "stdout",
     "output_type": "stream",
     "text": [
      "(1701246259.189322,)\n",
      "('dark',)\n",
      "(900.0,)\n",
      "(1701246259.189322, 1701246261.219265)\n",
      "('dark', 'dark')\n",
      "(900.0, 900.0)\n"
     ]
    }
   ],
   "source": [
    "pyHub.sampleLightTuple(3,1)"
   ]
  },
  {
   "cell_type": "code",
   "execution_count": 6,
   "id": "a5bc1dfd-c9f6-49e1-8d55-1390cb0e2f5d",
   "metadata": {},
   "outputs": [
    {
     "data": {
      "text/plain": [
       "True"
      ]
     },
     "execution_count": 6,
     "metadata": {},
     "output_type": "execute_result"
    }
   ],
   "source": [
    "pyHub.saveLightTupleIntoTable()"
   ]
  },
  {
   "cell_type": "code",
   "execution_count": 7,
   "id": "1858e1c3-ff67-4e46-acc9-090e4fadcb0c",
   "metadata": {},
   "outputs": [
    {
     "name": "stdout",
     "output_type": "stream",
     "text": [
      "('dark', 'dark', 'dark')\n",
      "(900, 900, 900)\n",
      "(1701245489, 1701245491, 1701245493)\n"
     ]
    }
   ],
   "source": [
    "pyHub.loadLightTupleFromTable()"
   ]
  },
  {
   "cell_type": "code",
   "execution_count": 8,
   "id": "93a74039-6e88-4828-b9e5-20322c5fad40",
   "metadata": {},
   "outputs": [
    {
     "name": "stdout",
     "output_type": "stream",
     "text": [
      "데이터(count):  3 \n",
      "평균(mean):  900.0 \n",
      "표준편차(var):  0.0 \n",
      "분산(std):  0.0 \n",
      "중앙값(median):  900.0\n"
     ]
    }
   ],
   "source": [
    "pyHub.describeLightTable()"
   ]
  },
  {
   "cell_type": "code",
   "execution_count": 9,
   "id": "f482af26-b02c-486f-8f8a-470a301ae819",
   "metadata": {},
   "outputs": [
    {
     "name": "stdout",
     "output_type": "stream",
     "text": [
      "데이터의 갯수:  3 \n",
      "평균:  3.3414792666666666 \n",
      "표준편차:  0.014109228143429227 \n",
      "분산:  0.00019907031880333532 \n",
      "중앙값:  3.3333333\n"
     ]
    }
   ],
   "source": [
    "pyHub.describeVoltTable()"
   ]
  },
  {
   "cell_type": "code",
   "execution_count": null,
   "id": "ca178e93-bfa1-45bf-bf15-07a61c1c9ae8",
   "metadata": {},
   "outputs": [],
   "source": []
  }
 ],
 "metadata": {
  "kernelspec": {
   "display_name": "Python 3 (ipykernel)",
   "language": "python",
   "name": "python3"
  },
  "language_info": {
   "codemirror_mode": {
    "name": "ipython",
    "version": 3
   },
   "file_extension": ".py",
   "mimetype": "text/x-python",
   "name": "python",
   "nbconvert_exporter": "python",
   "pygments_lexer": "ipython3",
   "version": "3.8.6"
  }
 },
 "nbformat": 4,
 "nbformat_minor": 5
}
