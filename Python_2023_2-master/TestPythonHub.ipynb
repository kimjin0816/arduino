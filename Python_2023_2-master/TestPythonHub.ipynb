{
 "cells": [
  {
   "cell_type": "code",
   "execution_count": 1,
   "id": "ed40b330-e300-46dc-89ff-fe03598f977f",
   "metadata": {},
   "outputs": [
    {
     "name": "stdout",
     "output_type": "stream",
     "text": [
      "생성자 호출됨\n"
     ]
    }
   ],
   "source": [
    "from PythonHub import PythonHub # PythonHub 모듈(PythonHub.py)로부터 클래스 PythonHub을 수입함\n",
    "pyHub = PythonHub()"
   ]
  },
  {
   "cell_type": "code",
   "execution_count": 2,
   "id": "432fff76-42f4-4c9a-8f1c-a38bc2bfdff7",
   "metadata": {},
   "outputs": [],
   "source": [
    "#pythonHub = PythonHub('COM3', 9600) # 클래스 PythonHub의 생성자를 호출해서 인스턴스 생성\n",
    "# 생성된 인스턴스는 pythonHub에 저장"
   ]
  },
  {
   "cell_type": "code",
   "execution_count": 3,
   "id": "d49da4a8-31cc-4eab-ab9b-58f793083667",
   "metadata": {},
   "outputs": [
    {
     "data": {
      "text/plain": [
       "3.347996"
      ]
     },
     "execution_count": 3,
     "metadata": {},
     "output_type": "execute_result"
    }
   ],
   "source": [
    "pyHub.getVolt()"
   ]
  },
  {
   "cell_type": "code",
   "execution_count": 4,
   "id": "55f804d1-2267-4d77-8a3a-22fbdf18b3b8",
   "metadata": {},
   "outputs": [
    {
     "data": {
      "text/plain": [
       "'dark'"
      ]
     },
     "execution_count": 4,
     "metadata": {},
     "output_type": "execute_result"
    }
   ],
   "source": [
    "pyHub.getLight()"
   ]
  },
  {
   "cell_type": "code",
   "execution_count": 5,
   "id": "583813c2-3932-42d1-b400-31b3c7e3697f",
   "metadata": {},
   "outputs": [
    {
     "data": {
      "text/plain": [
       "900.0"
      ]
     },
     "execution_count": 5,
     "metadata": {},
     "output_type": "execute_result"
    }
   ],
   "source": [
    "pyHub.getLightStep()"
   ]
  },
  {
   "cell_type": "code",
   "execution_count": 6,
   "id": "4965ed8b-5767-4bdd-9867-f8e1f22dbd50",
   "metadata": {},
   "outputs": [],
   "source": [
    "pyHub.setServoMove(180)"
   ]
  },
  {
   "cell_type": "code",
   "execution_count": 7,
   "id": "b68f98de-9c2d-4d27-aba7-1bf6104b277f",
   "metadata": {},
   "outputs": [],
   "source": [
    "pyHub.setLedColor('blue')"
   ]
  },
  {
   "cell_type": "code",
   "execution_count": 20,
   "id": "44472efe-5a7b-47bf-a672-e9f4c08abc39",
   "metadata": {},
   "outputs": [],
   "source": [
    "pyHub.setBuzzerNote('DO' ,1000)\n",
    "pyHub.setBuzzerNote('RE' ,1000)\n",
    "pyHub.setBuzzerNote('MI' ,1000)\n",
    "pyHub.setBuzzerNote('FA' ,1000)"
   ]
  },
  {
   "cell_type": "code",
   "execution_count": 13,
   "id": "57844a8f-3ac5-4f2c-a552-2e4498d59773",
   "metadata": {},
   "outputs": [
    {
     "data": {
      "text/plain": [
       "True"
      ]
     },
     "execution_count": 13,
     "metadata": {},
     "output_type": "execute_result"
    }
   ],
   "source": [
    "pyHub.addVoltToTuple()"
   ]
  },
  {
   "cell_type": "code",
   "execution_count": 14,
   "id": "69dd54d4-f0ed-4a74-9572-1e754c1843ec",
   "metadata": {},
   "outputs": [
    {
     "name": "stdout",
     "output_type": "stream",
     "text": [
      "(1699426685.7221272, 1699426687.5071294)\n"
     ]
    }
   ],
   "source": [
    "print(pyHub.voltTimes)"
   ]
  },
  {
   "cell_type": "code",
   "execution_count": 15,
   "id": "d4a749ac-6390-4666-b63b-690cbe543b43",
   "metadata": {},
   "outputs": [
    {
     "name": "stdout",
     "output_type": "stream",
     "text": [
      "volt = 3.347996 @ time = Wed Nov  8 15:58:05 2023\n",
      "volt = 3.3431084 @ time = Wed Nov  8 15:58:07 2023\n"
     ]
    }
   ],
   "source": [
    "pyHub.printVoltTuple()"
   ]
  },
  {
   "cell_type": "code",
   "execution_count": 16,
   "id": "11a13501-b3c9-4931-b5c6-9a83988931e8",
   "metadata": {},
   "outputs": [
    {
     "name": "stdout",
     "output_type": "stream",
     "text": [
      "(3.347996, 3.3431084)\n",
      "(1699426685.7221272, 1699426687.5071294)\n"
     ]
    }
   ],
   "source": [
    "print(pyHub.volts)\n",
    "print(pyHub.voltTimes)"
   ]
  },
  {
   "cell_type": "code",
   "execution_count": null,
   "id": "d804a680-0d18-4124-a76a-4f7c71485f65",
   "metadata": {},
   "outputs": [],
   "source": []
  }
 ],
 "metadata": {
  "kernelspec": {
   "display_name": "Python 3 (ipykernel)",
   "language": "python",
   "name": "python3"
  },
  "language_info": {
   "codemirror_mode": {
    "name": "ipython",
    "version": 3
   },
   "file_extension": ".py",
   "mimetype": "text/x-python",
   "name": "python",
   "nbconvert_exporter": "python",
   "pygments_lexer": "ipython3",
   "version": "3.8.6"
  }
 },
 "nbformat": 4,
 "nbformat_minor": 5
}
