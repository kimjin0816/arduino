{
 "cells": [
  {
   "cell_type": "code",
   "execution_count": null,
   "id": "c7221d21-fdbc-44d0-a466-9beec1940f3b",
   "metadata": {},
   "outputs": [
    {
     "name": "stdout",
     "output_type": "stream",
     "text": [
      "My web server started at http://localhost:8080\n",
      "/\n",
      "/favicon.ico\n"
     ]
    },
    {
     "name": "stderr",
     "output_type": "stream",
     "text": [
      "127.0.0.1 - - [20/Dec/2023 01:56:06] \"GET / HTTP/1.1\" 200 -\n",
      "----------------------------------------\n",
      "Exception happened during processing of request from ('127.0.0.1', 49264)\n",
      "Traceback (most recent call last):\n",
      "  File \"c:\\users\\user\\appdata\\local\\programs\\python\\python38\\lib\\socketserver.py\", line 316, in _handle_request_noblock\n",
      "    self.process_request(request, client_address)\n",
      "  File \"c:\\users\\user\\appdata\\local\\programs\\python\\python38\\lib\\socketserver.py\", line 347, in process_request\n",
      "    self.finish_request(request, client_address)\n",
      "  File \"c:\\users\\user\\appdata\\local\\programs\\python\\python38\\lib\\socketserver.py\", line 360, in finish_request\n",
      "    self.RequestHandlerClass(request, client_address, self)\n",
      "  File \"c:\\users\\user\\appdata\\local\\programs\\python\\python38\\lib\\http\\server.py\", line 647, in __init__\n",
      "    super().__init__(*args, **kwargs)\n",
      "  File \"c:\\users\\user\\appdata\\local\\programs\\python\\python38\\lib\\socketserver.py\", line 720, in __init__\n",
      "    self.handle()\n",
      "  File \"c:\\users\\user\\appdata\\local\\programs\\python\\python38\\lib\\http\\server.py\", line 427, in handle\n",
      "    self.handle_one_request()\n",
      "  File \"c:\\users\\user\\appdata\\local\\programs\\python\\python38\\lib\\http\\server.py\", line 415, in handle_one_request\n",
      "    method()\n",
      "  File \"C:\\Users\\user\\Desktop\\Python_2023_2-master\\HubRequestHandler.py\", line 22, in do_GET\n",
      "    else: result.writeNotFound() # 페이지가 없음\n",
      "AttributeError: 'SplitResult' object has no attribute 'writeNotFound'\n",
      "----------------------------------------\n"
     ]
    },
    {
     "name": "stdout",
     "output_type": "stream",
     "text": [
      "/favicon.ico\n"
     ]
    },
    {
     "name": "stderr",
     "output_type": "stream",
     "text": [
      "----------------------------------------\n",
      "Exception happened during processing of request from ('127.0.0.1', 49265)\n",
      "Traceback (most recent call last):\n",
      "  File \"c:\\users\\user\\appdata\\local\\programs\\python\\python38\\lib\\socketserver.py\", line 316, in _handle_request_noblock\n",
      "    self.process_request(request, client_address)\n",
      "  File \"c:\\users\\user\\appdata\\local\\programs\\python\\python38\\lib\\socketserver.py\", line 347, in process_request\n",
      "    self.finish_request(request, client_address)\n",
      "  File \"c:\\users\\user\\appdata\\local\\programs\\python\\python38\\lib\\socketserver.py\", line 360, in finish_request\n",
      "    self.RequestHandlerClass(request, client_address, self)\n",
      "  File \"c:\\users\\user\\appdata\\local\\programs\\python\\python38\\lib\\http\\server.py\", line 647, in __init__\n",
      "    super().__init__(*args, **kwargs)\n",
      "  File \"c:\\users\\user\\appdata\\local\\programs\\python\\python38\\lib\\socketserver.py\", line 720, in __init__\n",
      "    self.handle()\n",
      "  File \"c:\\users\\user\\appdata\\local\\programs\\python\\python38\\lib\\http\\server.py\", line 427, in handle\n",
      "    self.handle_one_request()\n",
      "  File \"c:\\users\\user\\appdata\\local\\programs\\python\\python38\\lib\\http\\server.py\", line 415, in handle_one_request\n",
      "    method()\n",
      "  File \"C:\\Users\\user\\Desktop\\Python_2023_2-master\\HubRequestHandler.py\", line 22, in do_GET\n",
      "    else: result.writeNotFound() # 페이지가 없음\n",
      "AttributeError: 'SplitResult' object has no attribute 'writeNotFound'\n",
      "----------------------------------------\n"
     ]
    },
    {
     "name": "stdout",
     "output_type": "stream",
     "text": [
      "/meas_one_volt\n"
     ]
    },
    {
     "name": "stderr",
     "output_type": "stream",
     "text": [
      "127.0.0.1 - - [20/Dec/2023 01:56:11] \"GET /meas_one_volt HTTP/1.1\" 200 -\n"
     ]
    },
    {
     "name": "stdout",
     "output_type": "stream",
     "text": [
      "[(1703004972, 3.3431084)]\n",
      "(3.3431084,)\n",
      "(1703004972,)\n",
      "/favicon.ico\n",
      "/favicon.ico\n"
     ]
    },
    {
     "name": "stderr",
     "output_type": "stream",
     "text": [
      "----------------------------------------\n",
      "Exception happened during processing of request from ('127.0.0.1', 49309)\n",
      "Traceback (most recent call last):\n",
      "  File \"c:\\users\\user\\appdata\\local\\programs\\python\\python38\\lib\\socketserver.py\", line 316, in _handle_request_noblock\n",
      "    self.process_request(request, client_address)\n",
      "  File \"c:\\users\\user\\appdata\\local\\programs\\python\\python38\\lib\\socketserver.py\", line 347, in process_request\n",
      "    self.finish_request(request, client_address)\n",
      "  File \"c:\\users\\user\\appdata\\local\\programs\\python\\python38\\lib\\socketserver.py\", line 360, in finish_request\n",
      "    self.RequestHandlerClass(request, client_address, self)\n",
      "  File \"c:\\users\\user\\appdata\\local\\programs\\python\\python38\\lib\\http\\server.py\", line 647, in __init__\n",
      "    super().__init__(*args, **kwargs)\n",
      "  File \"c:\\users\\user\\appdata\\local\\programs\\python\\python38\\lib\\socketserver.py\", line 720, in __init__\n",
      "    self.handle()\n",
      "  File \"c:\\users\\user\\appdata\\local\\programs\\python\\python38\\lib\\http\\server.py\", line 427, in handle\n",
      "    self.handle_one_request()\n",
      "  File \"c:\\users\\user\\appdata\\local\\programs\\python\\python38\\lib\\http\\server.py\", line 415, in handle_one_request\n",
      "    method()\n",
      "  File \"C:\\Users\\user\\Desktop\\Python_2023_2-master\\HubRequestHandler.py\", line 22, in do_GET\n",
      "    else: result.writeNotFound() # 페이지가 없음\n",
      "AttributeError: 'SplitResult' object has no attribute 'writeNotFound'\n",
      "----------------------------------------\n",
      "----------------------------------------\n",
      "Exception happened during processing of request from ('127.0.0.1', 49310)\n",
      "Traceback (most recent call last):\n",
      "  File \"c:\\users\\user\\appdata\\local\\programs\\python\\python38\\lib\\socketserver.py\", line 316, in _handle_request_noblock\n",
      "    self.process_request(request, client_address)\n",
      "  File \"c:\\users\\user\\appdata\\local\\programs\\python\\python38\\lib\\socketserver.py\", line 347, in process_request\n",
      "    self.finish_request(request, client_address)\n",
      "  File \"c:\\users\\user\\appdata\\local\\programs\\python\\python38\\lib\\socketserver.py\", line 360, in finish_request\n",
      "    self.RequestHandlerClass(request, client_address, self)\n",
      "  File \"c:\\users\\user\\appdata\\local\\programs\\python\\python38\\lib\\http\\server.py\", line 647, in __init__\n",
      "    super().__init__(*args, **kwargs)\n",
      "  File \"c:\\users\\user\\appdata\\local\\programs\\python\\python38\\lib\\socketserver.py\", line 720, in __init__\n",
      "    self.handle()\n",
      "  File \"c:\\users\\user\\appdata\\local\\programs\\python\\python38\\lib\\http\\server.py\", line 427, in handle\n",
      "    self.handle_one_request()\n",
      "  File \"c:\\users\\user\\appdata\\local\\programs\\python\\python38\\lib\\http\\server.py\", line 415, in handle_one_request\n",
      "    method()\n",
      "  File \"C:\\Users\\user\\Desktop\\Python_2023_2-master\\HubRequestHandler.py\", line 22, in do_GET\n",
      "    else: result.writeNotFound() # 페이지가 없음\n",
      "AttributeError: 'SplitResult' object has no attribute 'writeNotFound'\n",
      "----------------------------------------\n"
     ]
    },
    {
     "name": "stdout",
     "output_type": "stream",
     "text": [
      "/favicon.ico\n"
     ]
    },
    {
     "name": "stderr",
     "output_type": "stream",
     "text": [
      "----------------------------------------\n",
      "Exception happened during processing of request from ('127.0.0.1', 49321)\n",
      "Traceback (most recent call last):\n",
      "  File \"c:\\users\\user\\appdata\\local\\programs\\python\\python38\\lib\\socketserver.py\", line 316, in _handle_request_noblock\n",
      "    self.process_request(request, client_address)\n",
      "  File \"c:\\users\\user\\appdata\\local\\programs\\python\\python38\\lib\\socketserver.py\", line 347, in process_request\n",
      "    self.finish_request(request, client_address)\n",
      "  File \"c:\\users\\user\\appdata\\local\\programs\\python\\python38\\lib\\socketserver.py\", line 360, in finish_request\n",
      "    self.RequestHandlerClass(request, client_address, self)\n",
      "  File \"c:\\users\\user\\appdata\\local\\programs\\python\\python38\\lib\\http\\server.py\", line 647, in __init__\n",
      "    super().__init__(*args, **kwargs)\n",
      "  File \"c:\\users\\user\\appdata\\local\\programs\\python\\python38\\lib\\socketserver.py\", line 720, in __init__\n",
      "    self.handle()\n",
      "  File \"c:\\users\\user\\appdata\\local\\programs\\python\\python38\\lib\\http\\server.py\", line 427, in handle\n",
      "    self.handle_one_request()\n",
      "  File \"c:\\users\\user\\appdata\\local\\programs\\python\\python38\\lib\\http\\server.py\", line 415, in handle_one_request\n",
      "    method()\n",
      "  File \"C:\\Users\\user\\Desktop\\Python_2023_2-master\\HubRequestHandler.py\", line 22, in do_GET\n",
      "    else: result.writeNotFound() # 페이지가 없음\n",
      "AttributeError: 'SplitResult' object has no attribute 'writeNotFound'\n",
      "----------------------------------------\n"
     ]
    },
    {
     "name": "stdout",
     "output_type": "stream",
     "text": [
      "/meas_one_volt\n"
     ]
    },
    {
     "name": "stderr",
     "output_type": "stream",
     "text": [
      "127.0.0.1 - - [20/Dec/2023 01:56:16] \"GET /meas_one_volt HTTP/1.1\" 200 -\n"
     ]
    },
    {
     "name": "stdout",
     "output_type": "stream",
     "text": [
      "[(1703004972, 3.3431084), (1703004977, 3.3431084)]\n",
      "(3.3431084, 3.3431084)\n",
      "(1703004972, 1703004977)\n",
      "/favicon.ico\n"
     ]
    },
    {
     "name": "stderr",
     "output_type": "stream",
     "text": [
      "----------------------------------------\n",
      "Exception happened during processing of request from ('127.0.0.1', 49363)\n",
      "Traceback (most recent call last):\n",
      "  File \"c:\\users\\user\\appdata\\local\\programs\\python\\python38\\lib\\socketserver.py\", line 316, in _handle_request_noblock\n",
      "    self.process_request(request, client_address)\n",
      "  File \"c:\\users\\user\\appdata\\local\\programs\\python\\python38\\lib\\socketserver.py\", line 347, in process_request\n",
      "    self.finish_request(request, client_address)\n",
      "  File \"c:\\users\\user\\appdata\\local\\programs\\python\\python38\\lib\\socketserver.py\", line 360, in finish_request\n",
      "    self.RequestHandlerClass(request, client_address, self)\n",
      "  File \"c:\\users\\user\\appdata\\local\\programs\\python\\python38\\lib\\http\\server.py\", line 647, in __init__\n",
      "    super().__init__(*args, **kwargs)\n",
      "  File \"c:\\users\\user\\appdata\\local\\programs\\python\\python38\\lib\\socketserver.py\", line 720, in __init__\n",
      "    self.handle()\n",
      "  File \"c:\\users\\user\\appdata\\local\\programs\\python\\python38\\lib\\http\\server.py\", line 427, in handle\n",
      "    self.handle_one_request()\n",
      "  File \"c:\\users\\user\\appdata\\local\\programs\\python\\python38\\lib\\http\\server.py\", line 415, in handle_one_request\n",
      "    method()\n",
      "  File \"C:\\Users\\user\\Desktop\\Python_2023_2-master\\HubRequestHandler.py\", line 22, in do_GET\n",
      "    else: result.writeNotFound() # 페이지가 없음\n",
      "AttributeError: 'SplitResult' object has no attribute 'writeNotFound'\n",
      "----------------------------------------\n"
     ]
    },
    {
     "name": "stdout",
     "output_type": "stream",
     "text": [
      "/favicon.ico\n"
     ]
    },
    {
     "name": "stderr",
     "output_type": "stream",
     "text": [
      "----------------------------------------\n",
      "Exception happened during processing of request from ('127.0.0.1', 49369)\n",
      "Traceback (most recent call last):\n",
      "  File \"c:\\users\\user\\appdata\\local\\programs\\python\\python38\\lib\\socketserver.py\", line 316, in _handle_request_noblock\n",
      "    self.process_request(request, client_address)\n",
      "  File \"c:\\users\\user\\appdata\\local\\programs\\python\\python38\\lib\\socketserver.py\", line 347, in process_request\n",
      "    self.finish_request(request, client_address)\n",
      "  File \"c:\\users\\user\\appdata\\local\\programs\\python\\python38\\lib\\socketserver.py\", line 360, in finish_request\n",
      "    self.RequestHandlerClass(request, client_address, self)\n",
      "  File \"c:\\users\\user\\appdata\\local\\programs\\python\\python38\\lib\\http\\server.py\", line 647, in __init__\n",
      "    super().__init__(*args, **kwargs)\n",
      "  File \"c:\\users\\user\\appdata\\local\\programs\\python\\python38\\lib\\socketserver.py\", line 720, in __init__\n",
      "    self.handle()\n",
      "  File \"c:\\users\\user\\appdata\\local\\programs\\python\\python38\\lib\\http\\server.py\", line 427, in handle\n",
      "    self.handle_one_request()\n",
      "  File \"c:\\users\\user\\appdata\\local\\programs\\python\\python38\\lib\\http\\server.py\", line 415, in handle_one_request\n",
      "    method()\n",
      "  File \"C:\\Users\\user\\Desktop\\Python_2023_2-master\\HubRequestHandler.py\", line 22, in do_GET\n",
      "    else: result.writeNotFound() # 페이지가 없음\n",
      "AttributeError: 'SplitResult' object has no attribute 'writeNotFound'\n",
      "----------------------------------------\n"
     ]
    },
    {
     "name": "stdout",
     "output_type": "stream",
     "text": [
      "/\n"
     ]
    },
    {
     "name": "stderr",
     "output_type": "stream",
     "text": [
      "127.0.0.1 - - [20/Dec/2023 01:56:22] \"GET / HTTP/1.1\" 200 -\n"
     ]
    },
    {
     "name": "stdout",
     "output_type": "stream",
     "text": [
      "/favicon.ico\n"
     ]
    },
    {
     "name": "stderr",
     "output_type": "stream",
     "text": [
      "----------------------------------------\n",
      "Exception happened during processing of request from ('127.0.0.1', 49417)\n",
      "Traceback (most recent call last):\n",
      "  File \"c:\\users\\user\\appdata\\local\\programs\\python\\python38\\lib\\socketserver.py\", line 316, in _handle_request_noblock\n",
      "    self.process_request(request, client_address)\n",
      "  File \"c:\\users\\user\\appdata\\local\\programs\\python\\python38\\lib\\socketserver.py\", line 347, in process_request\n",
      "    self.finish_request(request, client_address)\n",
      "  File \"c:\\users\\user\\appdata\\local\\programs\\python\\python38\\lib\\socketserver.py\", line 360, in finish_request\n",
      "    self.RequestHandlerClass(request, client_address, self)\n",
      "  File \"c:\\users\\user\\appdata\\local\\programs\\python\\python38\\lib\\http\\server.py\", line 647, in __init__\n",
      "    super().__init__(*args, **kwargs)\n",
      "  File \"c:\\users\\user\\appdata\\local\\programs\\python\\python38\\lib\\socketserver.py\", line 720, in __init__\n",
      "    self.handle()\n",
      "  File \"c:\\users\\user\\appdata\\local\\programs\\python\\python38\\lib\\http\\server.py\", line 427, in handle\n",
      "    self.handle_one_request()\n",
      "  File \"c:\\users\\user\\appdata\\local\\programs\\python\\python38\\lib\\http\\server.py\", line 415, in handle_one_request\n",
      "    method()\n",
      "  File \"C:\\Users\\user\\Desktop\\Python_2023_2-master\\HubRequestHandler.py\", line 22, in do_GET\n",
      "    else: result.writeNotFound() # 페이지가 없음\n",
      "AttributeError: 'SplitResult' object has no attribute 'writeNotFound'\n",
      "----------------------------------------\n"
     ]
    },
    {
     "name": "stdout",
     "output_type": "stream",
     "text": [
      "/meas_one_light\n"
     ]
    },
    {
     "name": "stderr",
     "output_type": "stream",
     "text": [
      "127.0.0.1 - - [20/Dec/2023 01:56:27] \"GET /meas_one_light HTTP/1.1\" 200 -\n"
     ]
    },
    {
     "name": "stdout",
     "output_type": "stream",
     "text": [
      "('ambient',)\n",
      "(700,)\n",
      "(1703004988,)\n",
      "/favicon.ico\n"
     ]
    },
    {
     "name": "stderr",
     "output_type": "stream",
     "text": [
      "----------------------------------------\n",
      "Exception happened during processing of request from ('127.0.0.1', 49419)\n",
      "Traceback (most recent call last):\n",
      "  File \"c:\\users\\user\\appdata\\local\\programs\\python\\python38\\lib\\socketserver.py\", line 316, in _handle_request_noblock\n",
      "    self.process_request(request, client_address)\n",
      "  File \"c:\\users\\user\\appdata\\local\\programs\\python\\python38\\lib\\socketserver.py\", line 347, in process_request\n",
      "    self.finish_request(request, client_address)\n",
      "  File \"c:\\users\\user\\appdata\\local\\programs\\python\\python38\\lib\\socketserver.py\", line 360, in finish_request\n",
      "    self.RequestHandlerClass(request, client_address, self)\n",
      "  File \"c:\\users\\user\\appdata\\local\\programs\\python\\python38\\lib\\http\\server.py\", line 647, in __init__\n",
      "    super().__init__(*args, **kwargs)\n",
      "  File \"c:\\users\\user\\appdata\\local\\programs\\python\\python38\\lib\\socketserver.py\", line 720, in __init__\n",
      "    self.handle()\n",
      "  File \"c:\\users\\user\\appdata\\local\\programs\\python\\python38\\lib\\http\\server.py\", line 427, in handle\n",
      "    self.handle_one_request()\n",
      "  File \"c:\\users\\user\\appdata\\local\\programs\\python\\python38\\lib\\http\\server.py\", line 415, in handle_one_request\n",
      "    method()\n",
      "  File \"C:\\Users\\user\\Desktop\\Python_2023_2-master\\HubRequestHandler.py\", line 22, in do_GET\n",
      "    else: result.writeNotFound() # 페이지가 없음\n",
      "AttributeError: 'SplitResult' object has no attribute 'writeNotFound'\n",
      "----------------------------------------\n"
     ]
    },
    {
     "name": "stdout",
     "output_type": "stream",
     "text": [
      "/favicon.ico\n"
     ]
    },
    {
     "name": "stderr",
     "output_type": "stream",
     "text": [
      "----------------------------------------\n",
      "Exception happened during processing of request from ('127.0.0.1', 49461)\n",
      "Traceback (most recent call last):\n",
      "  File \"c:\\users\\user\\appdata\\local\\programs\\python\\python38\\lib\\socketserver.py\", line 316, in _handle_request_noblock\n",
      "    self.process_request(request, client_address)\n",
      "  File \"c:\\users\\user\\appdata\\local\\programs\\python\\python38\\lib\\socketserver.py\", line 347, in process_request\n",
      "    self.finish_request(request, client_address)\n",
      "  File \"c:\\users\\user\\appdata\\local\\programs\\python\\python38\\lib\\socketserver.py\", line 360, in finish_request\n",
      "    self.RequestHandlerClass(request, client_address, self)\n",
      "  File \"c:\\users\\user\\appdata\\local\\programs\\python\\python38\\lib\\http\\server.py\", line 647, in __init__\n",
      "    super().__init__(*args, **kwargs)\n",
      "  File \"c:\\users\\user\\appdata\\local\\programs\\python\\python38\\lib\\socketserver.py\", line 720, in __init__\n",
      "    self.handle()\n",
      "  File \"c:\\users\\user\\appdata\\local\\programs\\python\\python38\\lib\\http\\server.py\", line 427, in handle\n",
      "    self.handle_one_request()\n",
      "  File \"c:\\users\\user\\appdata\\local\\programs\\python\\python38\\lib\\http\\server.py\", line 415, in handle_one_request\n",
      "    method()\n",
      "  File \"C:\\Users\\user\\Desktop\\Python_2023_2-master\\HubRequestHandler.py\", line 22, in do_GET\n",
      "    else: result.writeNotFound() # 페이지가 없음\n",
      "AttributeError: 'SplitResult' object has no attribute 'writeNotFound'\n",
      "----------------------------------------\n"
     ]
    },
    {
     "name": "stdout",
     "output_type": "stream",
     "text": [
      "/meas_one_light\n"
     ]
    },
    {
     "name": "stderr",
     "output_type": "stream",
     "text": [
      "127.0.0.1 - - [20/Dec/2023 01:56:34] \"GET /meas_one_light HTTP/1.1\" 200 -\n"
     ]
    },
    {
     "name": "stdout",
     "output_type": "stream",
     "text": [
      "('ambient', 'bright')\n",
      "(700, 350)\n",
      "(1703004988, 1703004996)\n",
      "/favicon.ico\n"
     ]
    },
    {
     "name": "stderr",
     "output_type": "stream",
     "text": [
      "----------------------------------------\n",
      "Exception happened during processing of request from ('127.0.0.1', 49502)\n",
      "Traceback (most recent call last):\n",
      "  File \"c:\\users\\user\\appdata\\local\\programs\\python\\python38\\lib\\socketserver.py\", line 316, in _handle_request_noblock\n",
      "    self.process_request(request, client_address)\n",
      "  File \"c:\\users\\user\\appdata\\local\\programs\\python\\python38\\lib\\socketserver.py\", line 347, in process_request\n",
      "    self.finish_request(request, client_address)\n",
      "  File \"c:\\users\\user\\appdata\\local\\programs\\python\\python38\\lib\\socketserver.py\", line 360, in finish_request\n",
      "    self.RequestHandlerClass(request, client_address, self)\n",
      "  File \"c:\\users\\user\\appdata\\local\\programs\\python\\python38\\lib\\http\\server.py\", line 647, in __init__\n",
      "    super().__init__(*args, **kwargs)\n",
      "  File \"c:\\users\\user\\appdata\\local\\programs\\python\\python38\\lib\\socketserver.py\", line 720, in __init__\n",
      "    self.handle()\n",
      "  File \"c:\\users\\user\\appdata\\local\\programs\\python\\python38\\lib\\http\\server.py\", line 427, in handle\n",
      "    self.handle_one_request()\n",
      "  File \"c:\\users\\user\\appdata\\local\\programs\\python\\python38\\lib\\http\\server.py\", line 415, in handle_one_request\n",
      "    method()\n",
      "  File \"C:\\Users\\user\\Desktop\\Python_2023_2-master\\HubRequestHandler.py\", line 22, in do_GET\n",
      "    else: result.writeNotFound() # 페이지가 없음\n",
      "AttributeError: 'SplitResult' object has no attribute 'writeNotFound'\n",
      "----------------------------------------\n"
     ]
    },
    {
     "name": "stdout",
     "output_type": "stream",
     "text": [
      "/favicon.ico\n"
     ]
    },
    {
     "name": "stderr",
     "output_type": "stream",
     "text": [
      "----------------------------------------\n",
      "Exception happened during processing of request from ('127.0.0.1', 49508)\n",
      "Traceback (most recent call last):\n",
      "  File \"c:\\users\\user\\appdata\\local\\programs\\python\\python38\\lib\\socketserver.py\", line 316, in _handle_request_noblock\n",
      "    self.process_request(request, client_address)\n",
      "  File \"c:\\users\\user\\appdata\\local\\programs\\python\\python38\\lib\\socketserver.py\", line 347, in process_request\n",
      "    self.finish_request(request, client_address)\n",
      "  File \"c:\\users\\user\\appdata\\local\\programs\\python\\python38\\lib\\socketserver.py\", line 360, in finish_request\n",
      "    self.RequestHandlerClass(request, client_address, self)\n",
      "  File \"c:\\users\\user\\appdata\\local\\programs\\python\\python38\\lib\\http\\server.py\", line 647, in __init__\n",
      "    super().__init__(*args, **kwargs)\n",
      "  File \"c:\\users\\user\\appdata\\local\\programs\\python\\python38\\lib\\socketserver.py\", line 720, in __init__\n",
      "    self.handle()\n",
      "  File \"c:\\users\\user\\appdata\\local\\programs\\python\\python38\\lib\\http\\server.py\", line 427, in handle\n",
      "    self.handle_one_request()\n",
      "  File \"c:\\users\\user\\appdata\\local\\programs\\python\\python38\\lib\\http\\server.py\", line 415, in handle_one_request\n",
      "    method()\n",
      "  File \"C:\\Users\\user\\Desktop\\Python_2023_2-master\\HubRequestHandler.py\", line 22, in do_GET\n",
      "    else: result.writeNotFound() # 페이지가 없음\n",
      "AttributeError: 'SplitResult' object has no attribute 'writeNotFound'\n",
      "----------------------------------------\n"
     ]
    },
    {
     "name": "stdout",
     "output_type": "stream",
     "text": [
      "/\n"
     ]
    },
    {
     "name": "stderr",
     "output_type": "stream",
     "text": [
      "127.0.0.1 - - [20/Dec/2023 01:56:42] \"GET / HTTP/1.1\" 200 -\n"
     ]
    },
    {
     "name": "stdout",
     "output_type": "stream",
     "text": [
      "/favicon.ico\n"
     ]
    },
    {
     "name": "stderr",
     "output_type": "stream",
     "text": [
      "----------------------------------------\n",
      "Exception happened during processing of request from ('127.0.0.1', 49555)\n",
      "Traceback (most recent call last):\n",
      "  File \"c:\\users\\user\\appdata\\local\\programs\\python\\python38\\lib\\socketserver.py\", line 316, in _handle_request_noblock\n",
      "    self.process_request(request, client_address)\n",
      "  File \"c:\\users\\user\\appdata\\local\\programs\\python\\python38\\lib\\socketserver.py\", line 347, in process_request\n",
      "    self.finish_request(request, client_address)\n",
      "  File \"c:\\users\\user\\appdata\\local\\programs\\python\\python38\\lib\\socketserver.py\", line 360, in finish_request\n",
      "    self.RequestHandlerClass(request, client_address, self)\n",
      "  File \"c:\\users\\user\\appdata\\local\\programs\\python\\python38\\lib\\http\\server.py\", line 647, in __init__\n",
      "    super().__init__(*args, **kwargs)\n",
      "  File \"c:\\users\\user\\appdata\\local\\programs\\python\\python38\\lib\\socketserver.py\", line 720, in __init__\n",
      "    self.handle()\n",
      "  File \"c:\\users\\user\\appdata\\local\\programs\\python\\python38\\lib\\http\\server.py\", line 427, in handle\n",
      "    self.handle_one_request()\n",
      "  File \"c:\\users\\user\\appdata\\local\\programs\\python\\python38\\lib\\http\\server.py\", line 415, in handle_one_request\n",
      "    method()\n",
      "  File \"C:\\Users\\user\\Desktop\\Python_2023_2-master\\HubRequestHandler.py\", line 22, in do_GET\n",
      "    else: result.writeNotFound() # 페이지가 없음\n",
      "AttributeError: 'SplitResult' object has no attribute 'writeNotFound'\n",
      "----------------------------------------\n"
     ]
    }
   ],
   "source": [
    "from PythonServer import PythonServer\n",
    "server = PythonServer()\n",
    "server.run()"
   ]
  },
  {
   "cell_type": "code",
   "execution_count": null,
   "id": "a1bcd9d7-6424-415c-80e6-2220aa1f1abf",
   "metadata": {},
   "outputs": [],
   "source": []
  }
 ],
 "metadata": {
  "kernelspec": {
   "display_name": "Python 3 (ipykernel)",
   "language": "python",
   "name": "python3"
  },
  "language_info": {
   "codemirror_mode": {
    "name": "ipython",
    "version": 3
   },
   "file_extension": ".py",
   "mimetype": "text/x-python",
   "name": "python",
   "nbconvert_exporter": "python",
   "pygments_lexer": "ipython3",
   "version": "3.8.6"
  }
 },
 "nbformat": 4,
 "nbformat_minor": 5
}
