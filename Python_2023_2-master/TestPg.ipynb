{
 "cells": [
  {
   "cell_type": "code",
   "execution_count": 36,
   "id": "97b26082-8300-4c01-ae8c-87e6f6a27573",
   "metadata": {},
   "outputs": [],
   "source": [
    "import psycopg2"
   ]
  },
  {
   "cell_type": "code",
   "execution_count": 37,
   "id": "a1306b45-de85-4881-aad0-b6ac862d593b",
   "metadata": {},
   "outputs": [],
   "source": [
    "conn = psycopg2.connect(host='localhost', database='postgres', user='postgres', password='2023', port='5432'); \n",
    "# DB connection 얻기"
   ]
  },
  {
   "cell_type": "code",
   "execution_count": 38,
   "id": "1f98925f-9f84-4dc2-a082-4f4002866862",
   "metadata": {},
   "outputs": [],
   "source": [
    "cur = conn.cursor() # connection의 cursor(커서)"
   ]
  },
  {
   "cell_type": "code",
   "execution_count": 39,
   "id": "c885b1fa-2e0e-4d0c-814b-4ba052c01de1",
   "metadata": {},
   "outputs": [],
   "source": [
    "cur.execute('SELECT COUNT(*) FROM volt_table') # cursor에 명령어(SQL) 실행\n",
    "conn.commit() # connection에 기록하기 -> cursor 명령어를 DB가 실행"
   ]
  },
  {
   "cell_type": "code",
   "execution_count": 40,
   "id": "d3060763-20c4-49e1-b6c9-dc3304c60092",
   "metadata": {},
   "outputs": [],
   "source": [
    "result = cur.fetchone() # DB에서 실행한 결과를 cursor를 통해 튜플 하나(one) 획득(fetch)\n",
    "nCount = result[0]"
   ]
  },
  {
   "cell_type": "code",
   "execution_count": 41,
   "id": "1a000008-05c3-4b1d-8fe7-8b0a65fe76d9",
   "metadata": {},
   "outputs": [
    {
     "name": "stdout",
     "output_type": "stream",
     "text": [
      "(0,)\n"
     ]
    }
   ],
   "source": [
    "print(result)"
   ]
  },
  {
   "cell_type": "code",
   "execution_count": 42,
   "id": "e9cb32f4-abe0-4d5a-8f8d-cc519534ab20",
   "metadata": {},
   "outputs": [
    {
     "name": "stdout",
     "output_type": "stream",
     "text": [
      "0\n"
     ]
    }
   ],
   "source": [
    "print(nCount)"
   ]
  },
  {
   "cell_type": "code",
   "execution_count": 43,
   "id": "619b3a4e-502f-4e37-b24e-a3b030acef1e",
   "metadata": {},
   "outputs": [
    {
     "name": "stdout",
     "output_type": "stream",
     "text": [
      "1700031922\n"
     ]
    }
   ],
   "source": [
    "# 현재 시간 읽기\n",
    "import time\n",
    "nTime = int(time.time()) # 현재 에포크 타임(epoch time: 1970년 기점으로 측정한 시간)\n",
    "print(nTime)"
   ]
  },
  {
   "cell_type": "code",
   "execution_count": 44,
   "id": "6d457e9f-4f9c-48e3-a269-55cf01692e7e",
   "metadata": {},
   "outputs": [],
   "source": [
    "# 각 column에 data 삽입\n",
    "measTime = int(time.time())\n",
    "volt = 3.7\n",
    "cur.execute(f'INSERT INTO volt_table(meas_time, volt) VALUES({measTime}, {volt})')\n",
    "conn.commit()"
   ]
  },
  {
   "cell_type": "code",
   "execution_count": 45,
   "id": "81f33708-3e0f-420f-94b1-65ec487ca0db",
   "metadata": {},
   "outputs": [],
   "source": [
    "# 각 column의 data를 읽어오기\n",
    "cur.execute('SELECT meas_time, volt FROM volt_table') # SQL에 0번은 meas_time, 1번은 volt\n",
    "conn.commit()"
   ]
  },
  {
   "cell_type": "code",
   "execution_count": 46,
   "id": "b4d9a9ba-115a-42a3-bd8d-e18681835535",
   "metadata": {},
   "outputs": [
    {
     "name": "stdout",
     "output_type": "stream",
     "text": [
      "[(1700031930, 3.7)]\n"
     ]
    }
   ],
   "source": [
    "# DB 실행 결과 전부(all)를 획득(fetch)\n",
    "result = cur.fetchall() # 튜플을 원소로 가진 리스트\n",
    "print(result)"
   ]
  },
  {
   "cell_type": "code",
   "execution_count": 47,
   "id": "033c96cc-a45d-4ecc-8bbe-c5a9fd181420",
   "metadata": {
    "scrolled": true
   },
   "outputs": [
    {
     "name": "stdout",
     "output_type": "stream",
     "text": [
      "1700031930\n"
     ]
    }
   ],
   "source": [
    "measTime = result[0][0] # meas_time: 0번 row(튜플)의 0번 값(측정 시간)\n",
    "print(measTime)"
   ]
  },
  {
   "cell_type": "code",
   "execution_count": 48,
   "id": "1e9776a1-e235-4abe-9f7c-9255e1a90d8b",
   "metadata": {},
   "outputs": [
    {
     "name": "stdout",
     "output_type": "stream",
     "text": [
      "3.7\n"
     ]
    }
   ],
   "source": [
    "volt = result[0][1] # meas_time: 0번 row(튜플)의 1번 값(전압)\n",
    "print(volt)"
   ]
  },
  {
   "cell_type": "code",
   "execution_count": 49,
   "id": "abe87a88-6fe3-43d5-b159-09808e1da3bb",
   "metadata": {},
   "outputs": [],
   "source": [
    "# table의 모든 원소 자르기(삭제)\n",
    "cur.execute('TRUNCATE volt_table')\n",
    "conn.commit()"
   ]
  },
  {
   "cell_type": "code",
   "execution_count": 50,
   "id": "0b1f9e2c-288d-488d-adbb-345c0871d553",
   "metadata": {},
   "outputs": [],
   "source": [
    "# DB를 다 쓰고 나면 cursor와 connection 닫기\n",
    "cur.close()\n",
    "conn.close()"
   ]
  },
  {
   "cell_type": "code",
   "execution_count": null,
   "id": "6a25fe45-d099-4b7e-850e-3ad696a576b8",
   "metadata": {},
   "outputs": [],
   "source": []
  }
 ],
 "metadata": {
  "kernelspec": {
   "display_name": "Python 3 (ipykernel)",
   "language": "python",
   "name": "python3"
  },
  "language_info": {
   "codemirror_mode": {
    "name": "ipython",
    "version": 3
   },
   "file_extension": ".py",
   "mimetype": "text/x-python",
   "name": "python",
   "nbconvert_exporter": "python",
   "pygments_lexer": "ipython3",
   "version": "3.8.6"
  }
 },
 "nbformat": 4,
 "nbformat_minor": 5
}
